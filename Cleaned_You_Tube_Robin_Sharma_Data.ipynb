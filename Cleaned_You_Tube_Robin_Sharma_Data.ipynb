{
  "nbformat": 4,
  "nbformat_minor": 0,
  "metadata": {
    "colab": {
      "private_outputs": true,
      "provenance": [],
      "collapsed_sections": [
        "vncDsAP0Gaoa",
        "FJNUwmbgGyua",
        "w6K7xa23Elo4",
        "yQaldy8SH6Dl",
        "PH-0ReGfmX4f",
        "mDgbUHAGgjLW",
        "O_i_v8NEhb9l",
        "HhfV-JJviCcP",
        "Y3lxredqlCYt",
        "3RnN4peoiCZX",
        "x71ZqKXriCWQ",
        "7hBIi_osiCS2",
        "JlHwYmJAmNHm",
        "35m5QtbWiB9F",
        "PoPl-ycgm1ru",
        "H0kj-8xxnORC",
        "nA9Y7ga8ng1Z",
        "PBTbrJXOngz2",
        "u3PMJOP6ngxN",
        "dauF4eBmngu3",
        "bKJF3rekwFvQ",
        "MSa1f5Uengrz",
        "GF8Ens_Soomf",
        "0wOQAZs5pc--",
        "K5QZ13OEpz2H",
        "lQ7QKXXCp7Bj",
        "448CDAPjqfQr",
        "KSlN3yHqYklG",
        "t6dVpIINYklI",
        "ijmpgYnKYklI",
        "-JiQyfWJYklI",
        "EM7whBJCYoAo",
        "fge-S5ZAYoAp",
        "85gYPyotYoAp",
        "RoGjAbkUYoAp",
        "4Of9eVA-YrdM",
        "iky9q4vBYrdO",
        "F6T5p64dYrdO",
        "y-Ehk30pYrdP",
        "bamQiAODYuh1",
        "QHF8YVU7Yuh3",
        "GwzvFGzlYuh3",
        "qYpmQ266Yuh3",
        "OH-pJp9IphqM",
        "bbFf2-_FphqN",
        "_ouA3fa0phqN",
        "Seke61FWphqN",
        "PIIx-8_IphqN",
        "t27r6nlMphqO",
        "r2jJGEOYphqO",
        "b0JNsNcRphqO",
        "BZR9WyysphqO",
        "jj7wYXLtphqO",
        "eZrbJ2SmphqO",
        "rFu4xreNphqO",
        "YJ55k-q6phqO",
        "gCFgpxoyphqP",
        "OVtJsKN_phqQ",
        "lssrdh5qphqQ",
        "U2RJ9gkRphqQ",
        "1M8mcRywphqQ",
        "tgIPom80phqQ",
        "JMzcOPDDphqR",
        "x-EpHcCOp1ci",
        "X_VqEhTip1ck",
        "8zGJKyg5p1ck",
        "PVzmfK_Ep1ck",
        "n3dbpmDWp1ck",
        "ylSl6qgtp1ck",
        "ZWILFDl5p1ck",
        "M7G43BXep1ck",
        "Ag9LCva-p1cl",
        "E6MkPsBcp1cl",
        "2cELzS2fp1cl",
        "3MPXvC8up1cl",
        "NC_X3p0fY2L0",
        "UV0SzAkaZNRQ",
        "YPEH6qLeZNRQ",
        "q29F0dvdveiT",
        "EXh0U9oCveiU",
        "22aHeOlLveiV",
        "JcMwzZxoAimU",
        "8G2x9gOozGDZ",
        "gCX9965dhzqZ",
        "gIfDvo9L0UH2"
      ],
      "include_colab_link": true
    },
    "kernelspec": {
      "name": "python3",
      "display_name": "Python 3"
    },
    "language_info": {
      "name": "python"
    }
  },
  "cells": [
    {
      "cell_type": "markdown",
      "metadata": {
        "id": "view-in-github",
        "colab_type": "text"
      },
      "source": [
        "<a href=\"https://colab.research.google.com/github/VikkasDs/HOTEL/blob/main/Cleaned_You_Tube_Robin_Sharma_Data.ipynb\" target=\"_parent\"><img src=\"https://colab.research.google.com/assets/colab-badge.svg\" alt=\"Open In Colab\"/></a>"
      ]
    },
    {
      "cell_type": "markdown",
      "source": [
        "# **Project Name**    -\n",
        "\n"
      ],
      "metadata": {
        "id": "vncDsAP0Gaoa"
      }
    },
    {
      "cell_type": "markdown",
      "source": [
        "##### **Project Type**    - Data Cleaning\n",
        "##### **Contribution**    - Vikash Tiwari"
      ],
      "metadata": {
        "id": "beRrZCGUAJYm"
      }
    },
    {
      "cell_type": "markdown",
      "source": [
        "#### **Define Your Business Objective?**"
      ],
      "metadata": {
        "id": "PH-0ReGfmX4f"
      }
    },
    {
      "cell_type": "markdown",
      "source": [
        "Cleaning Robin Sharma's Youtube data to make it ready for further analysis"
      ],
      "metadata": {
        "id": "PhDvGCAqmjP1"
      }
    },
    {
      "cell_type": "markdown",
      "source": [
        "<h1>Major Stages of Cleaning Data"
      ],
      "metadata": {
        "id": "yjrJ-yNKK3sr"
      }
    },
    {
      "cell_type": "code",
      "source": [
        "#HANDLING MISSING DATA\n",
        "#STARDARDIZIG DATA FORMATS\n",
        "#FILTER UNWANTED OUTLIERS\n",
        "#HANDLING DUPLICATES"
      ],
      "metadata": {
        "id": "bleSfmO13LvI"
      },
      "execution_count": null,
      "outputs": []
    },
    {
      "cell_type": "markdown",
      "source": [
        "# ***Let's Begin !***"
      ],
      "metadata": {
        "id": "O_i_v8NEhb9l"
      }
    },
    {
      "cell_type": "markdown",
      "source": [
        "## ***1. Know Your Data***"
      ],
      "metadata": {
        "id": "HhfV-JJviCcP"
      }
    },
    {
      "cell_type": "markdown",
      "source": [
        "### Import Libraries"
      ],
      "metadata": {
        "id": "Y3lxredqlCYt"
      }
    },
    {
      "cell_type": "code",
      "source": [
        "# Import Libraries\n",
        "import missingno as msno\n",
        "import numpy as np\n",
        "import pandas as pd\n",
        "import matplotlib.pyplot as plt\n",
        "import seaborn as sns\n",
        "from datetime import datetime\n",
        "%matplotlib inline"
      ],
      "metadata": {
        "id": "M8Vqi-pPk-HR"
      },
      "execution_count": null,
      "outputs": []
    },
    {
      "cell_type": "markdown",
      "source": [
        "### Dataset Loading"
      ],
      "metadata": {
        "id": "3RnN4peoiCZX"
      }
    },
    {
      "cell_type": "code",
      "source": [
        "from google.colab import drive\n",
        "drive.mount('/content/drive')\n",
        "#Loading Linkedin dataset\n",
        "data= '/content/drive/MyDrive/ROBIN SHARMA/Final_CL_Robin_Sharma_YouTube_Data.csv'\n",
        "Youtube_data= pd.read_csv(data)"
      ],
      "metadata": {
        "id": "4CkvbW_SlZ_R"
      },
      "execution_count": null,
      "outputs": []
    },
    {
      "cell_type": "markdown",
      "source": [
        "### Dataset First View"
      ],
      "metadata": {
        "id": "x71ZqKXriCWQ"
      }
    },
    {
      "cell_type": "code",
      "source": [
        "# Youtube Dataset First Look\n",
        "Youtube_data"
      ],
      "metadata": {
        "id": "LWNFOSvLl09H"
      },
      "execution_count": null,
      "outputs": []
    },
    {
      "cell_type": "markdown",
      "source": [
        "### Dataset Rows & Columns count"
      ],
      "metadata": {
        "id": "7hBIi_osiCS2"
      }
    },
    {
      "cell_type": "code",
      "source": [
        "# Dataset Rows & Columns count\n",
        "rows, columns= Youtube_data.shape\n",
        "print(f'there are {rows} Rows & {columns} Columns in this dataset')"
      ],
      "metadata": {
        "id": "Kllu7SJgmLij"
      },
      "execution_count": null,
      "outputs": []
    },
    {
      "cell_type": "markdown",
      "source": [
        "### Dataset Information"
      ],
      "metadata": {
        "id": "JlHwYmJAmNHm"
      }
    },
    {
      "cell_type": "code",
      "source": [
        "# Dataset Info\n",
        "Youtube_data.info()\n"
      ],
      "metadata": {
        "id": "e9hRXRi6meOf"
      },
      "execution_count": null,
      "outputs": []
    },
    {
      "cell_type": "markdown",
      "source": [
        "**<h1>Changing Column names**"
      ],
      "metadata": {
        "id": "IyK0i3TmkVia"
      }
    },
    {
      "cell_type": "code",
      "source": [
        "#changing 'Unnamed: 0' column name to 'SR. No'\n",
        "Youtube_data.rename(columns={'Unnamed: 0':'SR. No'},inplace=True)"
      ],
      "metadata": {
        "id": "HaFpiLwSkTAD"
      },
      "execution_count": null,
      "outputs": []
    },
    {
      "cell_type": "code",
      "source": [
        "#changing 'Unnamed: 3' column name to 'Published_Date'\n",
        "Youtube_data.rename(columns={'Unnamed: 3':'Published_date'},inplace=True)"
      ],
      "metadata": {
        "id": "xVUiCKvIlbhM"
      },
      "execution_count": null,
      "outputs": []
    },
    {
      "cell_type": "code",
      "source": [
        "#Checking whether column name have been successfully changed or not\n",
        "Youtube_data.info()"
      ],
      "metadata": {
        "id": "VFQfxXxJluHi"
      },
      "execution_count": null,
      "outputs": []
    },
    {
      "cell_type": "markdown",
      "source": [
        "**<h1>1. Handling Duplicate Values**"
      ],
      "metadata": {
        "id": "35m5QtbWiB9F"
      }
    },
    {
      "cell_type": "code",
      "source": [
        "# Dataset Duplicate Value Count\n",
        "duplicate = Youtube_data.duplicated()\n",
        "#creating a boolean Series object called duplicate by calling the duplicated() method on the Linkedin_data DataFrame"
      ],
      "metadata": {
        "id": "1sLdpKYkmox0"
      },
      "execution_count": null,
      "outputs": []
    },
    {
      "cell_type": "code",
      "source": [
        "duplicate"
      ],
      "metadata": {
        "id": "RgSlfy1amQyj"
      },
      "execution_count": null,
      "outputs": []
    },
    {
      "cell_type": "code",
      "source": [
        "# filtering the Linkedin_data DataFrame using the boolean Series 'duplicate' & storig that in duplicate_rows. This would only display duplicate values\n",
        "duplicate_rows= Youtube_data[duplicate]\n"
      ],
      "metadata": {
        "id": "zluxYivVoSca"
      },
      "execution_count": null,
      "outputs": []
    },
    {
      "cell_type": "code",
      "source": [
        "duplicate_rows\n",
        "#there are no duplicate rows in this dataframe"
      ],
      "metadata": {
        "id": "1CFu3uv2qktv"
      },
      "execution_count": null,
      "outputs": []
    },
    {
      "cell_type": "markdown",
      "source": [
        "**<h1>2. Handling Missing Values/Null Values**"
      ],
      "metadata": {
        "id": "PoPl-ycgm1ru"
      }
    },
    {
      "cell_type": "code",
      "source": [
        "# Missing Values/Null Values Count\n",
        "missing_values= Youtube_data.isnull().sum().sort_values(ascending=False)\n",
        "missing_values\n",
        "#This dataframe dont have any missing values"
      ],
      "metadata": {
        "id": "GgHWkxvamxVg"
      },
      "execution_count": null,
      "outputs": []
    },
    {
      "cell_type": "code",
      "source": [
        "#creating bar plot\n",
        "plt.figure(figsize=(10,6))\n",
        "#creating a color pallete\n",
        "palette = sns.color_palette(\"husl\", len(missing_values))\n",
        "bars = plt.bar(missing_values.index, missing_values, color=palette)\n",
        "plt.title('Missing Values')\n",
        "plt.xlabel('Columns')\n",
        "# Rotate x-axis labels for better readability\n",
        "plt.xticks(rotation=45, ha='right')\n",
        "#Lets Annotate the bar plot with missing value counts\n",
        "for bar in bars:\n",
        "  height=bar.get_height()\n",
        "  plt.text(\n",
        "      bar.get_x() + bar.get_width() / 2,\n",
        "      height,\n",
        "      f'{int(height)}',\n",
        "      ha='center',\n",
        "      va='bottom'\n",
        "  )\n",
        "  #using plt.text() which a function from matplotlib library that adds text to the plot at specified coordinates\n",
        "plt.ylabel('No of Missing Values')\n",
        "plt.show()"
      ],
      "metadata": {
        "id": "6xHPucFiEY3I"
      },
      "execution_count": null,
      "outputs": []
    },
    {
      "cell_type": "markdown",
      "source": [
        "## ***2. Understanding Your Variables***"
      ],
      "metadata": {
        "id": "nA9Y7ga8ng1Z"
      }
    },
    {
      "cell_type": "code",
      "source": [
        "# Dataset Columns\n",
        "Youtube_data.columns"
      ],
      "metadata": {
        "id": "j7xfkqrt5Ag5"
      },
      "execution_count": null,
      "outputs": []
    },
    {
      "cell_type": "code",
      "source": [
        "# Dataset Describe\n",
        "# The Describe method in pandas would give you standard statistics data\n",
        "Youtube_data.describe()"
      ],
      "metadata": {
        "id": "DnOaZdaE5Q5t"
      },
      "execution_count": null,
      "outputs": []
    },
    {
      "cell_type": "code",
      "source": [
        "# Check Unique Values for each variable.\n",
        "for elements in Youtube_data.columns:\n",
        "  print('No of Unique values in',elements,'column is',Youtube_data[elements].nunique())\n",
        "\n",
        "##Here element represents each column"
      ],
      "metadata": {
        "id": "zms12Yq5n-jE"
      },
      "execution_count": null,
      "outputs": []
    },
    {
      "cell_type": "markdown",
      "source": [
        "## 3. ***Data Wrangling***"
      ],
      "metadata": {
        "id": "dauF4eBmngu3"
      }
    },
    {
      "cell_type": "markdown",
      "source": [
        "### Data Wrangling Code"
      ],
      "metadata": {
        "id": "bKJF3rekwFvQ"
      }
    },
    {
      "cell_type": "code",
      "source": [
        "# Write your code to make your dataset analysis ready.\n",
        "#Missing values\n",
        "Youtube_data.isnull().sum().sort_values(ascending=False)\n",
        "#Thus, there are no null values"
      ],
      "metadata": {
        "id": "wk-9a2fpoLcV"
      },
      "execution_count": null,
      "outputs": []
    },
    {
      "cell_type": "code",
      "source": [
        "Youtube_data.columns"
      ],
      "metadata": {
        "id": "Avi6jdScoDc3"
      },
      "execution_count": null,
      "outputs": []
    },
    {
      "cell_type": "markdown",
      "source": [
        "**<h1>3) Standardizing Data Formats**"
      ],
      "metadata": {
        "id": "8EcEZmo3unek"
      }
    },
    {
      "cell_type": "code",
      "source": [
        "#Checking Data types of all columns\n",
        "Youtube_data.info()"
      ],
      "metadata": {
        "id": "1m2xEuEb6Kdo"
      },
      "execution_count": null,
      "outputs": []
    },
    {
      "cell_type": "code",
      "source": [
        "# 'Published_date' column is of object data type & has to be changed to datetime format\n",
        "Youtube_data[\"Published_date\"] = pd.to_datetime(Youtube_data[\"Published_date\"],dayfirst=True)"
      ],
      "metadata": {
        "id": "Ad-vI5yBAUJ_"
      },
      "execution_count": null,
      "outputs": []
    },
    {
      "cell_type": "code",
      "source": [
        "Youtube_data[\"Published_date\"]"
      ],
      "metadata": {
        "id": "pUHfcwrv37Y6"
      },
      "execution_count": null,
      "outputs": []
    },
    {
      "cell_type": "code",
      "source": [
        "#converting 'Published_time' from object datatype to time datatype\n",
        "Youtube_data['Published_time'] = pd.to_datetime(Youtube_data['Published_time'], format='%I:%M:%S %p')\n",
        "#the above step would give us time with default date of '1900-01-01' .\n"
      ],
      "metadata": {
        "id": "8eGJxUpwW_Kk"
      },
      "execution_count": null,
      "outputs": []
    },
    {
      "cell_type": "code",
      "source": [
        "Youtube_data['Published_time']"
      ],
      "metadata": {
        "id": "jSXzO4e0JMaD"
      },
      "execution_count": null,
      "outputs": []
    },
    {
      "cell_type": "code",
      "source": [
        "#we would be using time extractor from the result to ignore date and get only time\n",
        "Youtube_data['Published_time'] = Youtube_data['Published_time'].dt.time"
      ],
      "metadata": {
        "id": "SPzLVjVKKkxu"
      },
      "execution_count": null,
      "outputs": []
    },
    {
      "cell_type": "code",
      "source": [
        "Youtube_data['Published_time']"
      ],
      "metadata": {
        "id": "7rcn06i6Kuw5"
      },
      "execution_count": null,
      "outputs": []
    },
    {
      "cell_type": "code",
      "source": [
        "#Checking Data types of all columns\n",
        "Youtube_data.info()"
      ],
      "metadata": {
        "id": "_eGnA8GA1ldo"
      },
      "execution_count": null,
      "outputs": []
    },
    {
      "cell_type": "markdown",
      "source": [
        "<h1> 1. There are 610 Rows & 9 Columns in this dataset\n",
        "\n",
        "<h1> 2. There were no duplicate data in this dataset\n",
        "                      \n",
        "<h1>3. This dataframe had o null values in ay columns\n",
        "\n",
        "<h1>4. Published_date column was of object datatpe, changed that to datetime datatype\n",
        "\n",
        "<h1>3. Converted time format from AM/PM to 24 hour format\n"
      ],
      "metadata": {
        "id": "h7dptbAUMdHh"
      }
    }
  ]
}